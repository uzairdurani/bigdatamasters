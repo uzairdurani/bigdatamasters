{
 "cells": [
  {
   "cell_type": "code",
   "execution_count": 0,
   "metadata": {
    "application/vnd.databricks.v1+cell": {
     "cellMetadata": {
      "byteLimit": 2048000,
      "rowLimit": 10000
     },
     "inputWidgets": {},
     "nuid": "8f703205-a3ba-41e9-b1c0-d3aa6e711655",
     "showTitle": false,
     "title": ""
    }
   },
   "outputs": [
    {
     "output_type": "stream",
     "name": "stdout",
     "output_type": "stream",
     "text": [
      "Out[2]: [('the', 1),\n ('quick', 1),\n ('brown', 1),\n ('fox', 1),\n ('jumped', 1),\n ('over', 1),\n ('lazy', 1),\n ('dogs', 1),\n ('quick', 1),\n ('dogs', 1),\n ('jumped', 1),\n ('jumped', 1)]"
     ]
    }
   ],
   "source": [
    "import pyspark\n",
    "\n",
    "spark = pyspark.sql.SparkSession.builder.getOrCreate()\n",
    "\n",
    "def mapper(line):\n",
    "    words = line.split()\n",
    "    for word in words:\n",
    "        yield (word, 1)\n",
    "\n",
    "# Create an RDD from the input text\n",
    "rdd = spark.sparkContext.parallelize([\"the quick brown fox jumped over lazy dogs quick dogs jumped jumped\"])\n",
    "\n",
    "# Map the RDD using the mapper function\n",
    "mapped_rdd = rdd.flatMap(mapper)\n",
    "\n",
    "# Print the mapped RDD to the console\n",
    "mapped_rdd.collect()\n"
   ]
  },
  {
   "cell_type": "code",
   "execution_count": 0,
   "metadata": {
    "application/vnd.databricks.v1+cell": {
     "cellMetadata": {
      "byteLimit": 2048000,
      "rowLimit": 10000
     },
     "inputWidgets": {},
     "nuid": "dd45cb13-4321-470a-bbc3-b2349e0cb23d",
     "showTitle": false,
     "title": ""
    }
   },
   "outputs": [
    {
     "output_type": "stream",
     "name": "stdout",
     "output_type": "stream",
     "text": [
      "Out[3]: [('brown', <pyspark.resultiterable.ResultIterable at 0x7f21c0b21940>),\n ('dogs', <pyspark.resultiterable.ResultIterable at 0x7f21c0ad1a00>),\n ('fox', <pyspark.resultiterable.ResultIterable at 0x7f21c0ad1e20>),\n ('jumped', <pyspark.resultiterable.ResultIterable at 0x7f21c0ad1eb0>),\n ('lazy', <pyspark.resultiterable.ResultIterable at 0x7f21c0ad1610>),\n ('over', <pyspark.resultiterable.ResultIterable at 0x7f21c0ad1e50>),\n ('quick', <pyspark.resultiterable.ResultIterable at 0x7f21e1b03a30>),\n ('the', <pyspark.resultiterable.ResultIterable at 0x7f21c09702b0>)]"
     ]
    }
   ],
   "source": [
    "# Group the mapped RDD by key\n",
    "grouped_rdd = mapped_rdd.groupByKey()\n",
    "\n",
    "# Sort the grouped RDD by key\n",
    "sorted_rdd = grouped_rdd.sortByKey()\n",
    "\n",
    "# Print the sorted RDD to the console\n",
    "sorted_rdd.collect()\n"
   ]
  },
  {
   "cell_type": "code",
   "execution_count": 0,
   "metadata": {
    "application/vnd.databricks.v1+cell": {
     "cellMetadata": {
      "byteLimit": 2048000,
      "rowLimit": 10000
     },
     "inputWidgets": {},
     "nuid": "c8e54fc8-7c0d-4602-a5b6-9bf83cdb59eb",
     "showTitle": false,
     "title": ""
    }
   },
   "outputs": [
    {
     "output_type": "stream",
     "name": "stdout",
     "output_type": "stream",
     "text": [
      "Out[4]: [('quick', <pyspark.resultiterable.ResultIterable at 0x7f21c09700d0>),\n ('dogs', <pyspark.resultiterable.ResultIterable at 0x7f21c0970640>),\n ('fox', <pyspark.resultiterable.ResultIterable at 0x7f21c0970490>),\n ('lazy', <pyspark.resultiterable.ResultIterable at 0x7f21c09702e0>),\n ('the', <pyspark.resultiterable.ResultIterable at 0x7f21c0970a90>),\n ('over', <pyspark.resultiterable.ResultIterable at 0x7f21c0970970>),\n ('brown', <pyspark.resultiterable.ResultIterable at 0x7f21c0970850>),\n ('jumped', <pyspark.resultiterable.ResultIterable at 0x7f21c09705b0>)]"
     ]
    }
   ],
   "source": [
    "def reducer(a, b):\n",
    "    return a + b\n",
    "\n",
    "# Reduce the grouped RDD by key using the reducer function\n",
    "reduced_rdd = grouped_rdd.reduceByKey(reducer)\n",
    "\n",
    "# Print the reduced RDD to the console\n",
    "reduced_rdd.collect()\n"
   ]
  },
  {
   "cell_type": "code",
   "execution_count": 0,
   "metadata": {
    "application/vnd.databricks.v1+cell": {
     "cellMetadata": {},
     "inputWidgets": {},
     "nuid": "f1384dcb-614a-4dbd-ba1e-efa07aceba1b",
     "showTitle": false,
     "title": ""
    }
   },
   "outputs": [],
   "source": []
  }
 ],
 "metadata": {
  "application/vnd.databricks.v1+notebook": {
   "dashboards": [],
   "language": "python",
   "notebookMetadata": {
    "pythonIndentUnit": 4
   },
   "notebookName": "word count",
   "widgets": {}
  }
 },
 "nbformat": 4,
 "nbformat_minor": 0
}
